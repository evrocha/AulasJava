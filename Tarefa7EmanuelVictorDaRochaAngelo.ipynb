{
  "nbformat": 4,
  "nbformat_minor": 0,
  "metadata": {
    "colab": {
      "provenance": [],
      "authorship_tag": "ABX9TyMvEhZ5WsXPKiPF57CGhKgu",
      "include_colab_link": true
    },
    "kernelspec": {
      "name": "python3",
      "display_name": "Python 3"
    },
    "language_info": {
      "name": "python"
    }
  },
  "cells": [
    {
      "cell_type": "markdown",
      "metadata": {
        "id": "view-in-github",
        "colab_type": "text"
      },
      "source": [
        "<a href=\"https://colab.research.google.com/github/evrocha/AulasJava/blob/main/Tarefa7EmanuelVictorDaRochaAngelo.ipynb\" target=\"_parent\"><img src=\"https://colab.research.google.com/assets/colab-badge.svg\" alt=\"Open In Colab\"/></a>"
      ]
    },
    {
      "cell_type": "code",
      "execution_count": null,
      "metadata": {
        "id": "pQFCtcjWwqxH"
      },
      "outputs": [],
      "source": [
        " # NOME DO ALUNO: EMANUEL VICTOR DA ROCHA ANGEO"
      ]
    },
    {
      "cell_type": "code",
      "source": [
        "#  tarefa 1 "
      ],
      "metadata": {
        "id": "7fda-NCzwyzs"
      },
      "execution_count": null,
      "outputs": []
    },
    {
      "cell_type": "code",
      "source": [
        "x =  int(input('Valor de X: ')) # recebendo o valor da variavel inteira x\n",
        "if (x %2) ==0: #  se o resto da divisao de x por 2 for igual a 0\n",
        "  print(f\"{x} é um número par.\") # é mostrado an gtela que ele é par\n",
        "else: #  se nao\n",
        "  print(f'{x} é um número ímpar')# é mostrado an gtela que ele é impar\n",
        "  "
      ],
      "metadata": {
        "colab": {
          "base_uri": "https://localhost:8080/"
        },
        "id": "iG9QHbiRw2xB",
        "outputId": "a87dcc9a-acf2-4161-cda7-04fc8ecb36a8"
      },
      "execution_count": null,
      "outputs": [
        {
          "output_type": "stream",
          "name": "stdout",
          "text": [
            "Valor de X: 24\n",
            "24 é um número par.\n"
          ]
        }
      ]
    },
    {
      "cell_type": "code",
      "source": [],
      "metadata": {
        "id": "tcE0wno9xUYe"
      },
      "execution_count": null,
      "outputs": []
    }
  ]
}